{
 "cells": [
  {
   "cell_type": "markdown",
   "metadata": {
    "id": "zmwWs4S9cRIn"
   },
   "source": [
    "# ECE 570 Assignment 3 Instructions\n",
    "\n",
    "## **Instructions**\n",
    "This Jupyter notebook entitled **Assignment_03_Instructions** contains instructions for doing your assignment exercise.\n",
    "A second Jupyter notebook entitled **Assignment_03_Exercise** contains all the exercises that you will need to perform.\n",
    "A third Jupyter notebook entitled **uploader** contains code to generate an HTML version of your notebook, which you can then print and upload.  This avoids code or output being cutoff from the printout and should be used for uploading your PDF submission to Gradescope.\n",
    "\n",
    "As you read each section of this instructions notebook, you should try running the associated code snippets.  The colaboratory environment allows you to run code snippets locally by clicking on the arrow on the left of the code. This is a wonderful feature that allows you to experiment as you read. You should take advantage of this and experiment and test different ideas, so you can become more familiar with the Python and the Jupyter programing environment. \n",
    "\n",
    "At the end of each sub-section, there will be exercises to perform. \n",
    "You should perform the exercises in the document **Assignment_03_Exercise**, which will contain all your results. \n",
    "You can then hand in your results by printing the **Assignment_03_Exercise** document as a pdf with all code and simulation results included."
   ]
  },
  {
   "cell_type": "markdown",
   "metadata": {
    "id": "Zz2T0QYYpwVR"
   },
   "source": [
    "## Section 1: Loading and manipulating data\n",
    "\n",
    "In this lab we will use Pandas and Scikit-learn packages to create and analyse data. "
   ]
  },
  {
   "cell_type": "markdown",
   "metadata": {
    "id": "4ynAt8ZRh4YF"
   },
   "source": [
    "### Basics of pandas\n",
    "**Pandas** is useful for open source data analysis. It helps on loading different types of raw data and manipulate the data in a highly effective way.  We will only use simple loading and processing functions in this assignment but there are many more advanced manipulations that can be very helpful for manipulating real-world data.\n",
    "\n",
    "Please read the first three pages of the [\"Getting Started\" tutorials in the pandas documentation](https://pandas.pydata.org/pandas-docs/stable/getting_started/intro_tutorials/index.html):\n",
    " - [What kind of data does pandas handle?](https://pandas.pydata.org/pandas-docs/stable/getting_started/intro_tutorials/01_table_oriented.html)\n",
    " - [How do I read and write tabular data?](https://pandas.pydata.org/pandas-docs/stable/getting_started/intro_tutorials/02_read_write.html)\n",
    " - [How do I select a subset of a DataFrame?](https://pandas.pydata.org/pandas-docs/stable/getting_started/intro_tutorials/03_subset_data.html)"
   ]
  },
  {
   "cell_type": "markdown",
   "metadata": {
    "id": "zRpbuqkqh4YG"
   },
   "source": [
    "### Basics of scikit-learn\n",
    "**Scikit-learn** is a powerful tool for machine learning in Python. It has many built-in functions that can help creating/preprocessing data and performing standard machine learning tasks such as classification, regression, clustering, etc. \n",
    "\n",
    "Please read the following getting started guide that explains the basic concepts used in scikit-learn:\n",
    "https://scikit-learn.org/stable/getting_started.html\n",
    "\n",
    "Also, feel free to explore the scikit-learn documentation, tutorials, and examples.  The library is well-documented with many excellent examples where you can download the code and try yourself."
   ]
  },
  {
   "cell_type": "markdown",
   "metadata": {
    "id": "4YfOwq3GnRBO"
   },
   "source": [
    "### Load the data\n"
   ]
  },
  {
   "cell_type": "code",
   "execution_count": 1,
   "metadata": {
    "id": "ZV9ynXASoHTZ"
   },
   "outputs": [],
   "source": [
    "#from google.colab import drive\n",
    "#drive.mount('/content/drive')"
   ]
  },
  {
   "cell_type": "markdown",
   "metadata": {
    "id": "LKZhi88XpMTx"
   },
   "source": [
    "After mounting your drive, you should be able to access your file in the same way just like on your own computer. Then we need to load the datasets. One of the most common type of file for datasets is .csv file which the pandas package provide nice functions for this task."
   ]
  },
  {
   "cell_type": "code",
   "execution_count": 2,
   "metadata": {
    "id": "nedmSgoBqQjv"
   },
   "outputs": [],
   "source": [
    "import pandas as pd\n",
    "# This will give an error because the file does not exist but illustrates how to do it\n",
    "# data = pd.read_csv(\"Your-csvFile-location\")"
   ]
  },
  {
   "cell_type": "markdown",
   "metadata": {
    "id": "epemYbNAq3aR"
   },
   "source": [
    "Besides simply loading csv files, there are some useful functions for manipulating data."
   ]
  },
  {
   "cell_type": "code",
   "execution_count": 3,
   "metadata": {
    "colab": {
     "base_uri": "https://localhost:8080/",
     "height": 359
    },
    "id": "o7WAtFtfq1xc",
    "outputId": "68e4b745-1687-441a-e584-903e4fe60234"
   },
   "outputs": [
    {
     "data": {
      "text/html": [
       "<div>\n",
       "<style scoped>\n",
       "    .dataframe tbody tr th:only-of-type {\n",
       "        vertical-align: middle;\n",
       "    }\n",
       "\n",
       "    .dataframe tbody tr th {\n",
       "        vertical-align: top;\n",
       "    }\n",
       "\n",
       "    .dataframe thead th {\n",
       "        text-align: right;\n",
       "    }\n",
       "</style>\n",
       "<table border=\"1\" class=\"dataframe\">\n",
       "  <thead>\n",
       "    <tr style=\"text-align: right;\">\n",
       "      <th></th>\n",
       "      <th>col1</th>\n",
       "      <th>col2</th>\n",
       "      <th>col3</th>\n",
       "    </tr>\n",
       "  </thead>\n",
       "  <tbody>\n",
       "    <tr>\n",
       "      <th>0</th>\n",
       "      <td>0.141639</td>\n",
       "      <td>0.044800</td>\n",
       "      <td>-1.649964</td>\n",
       "    </tr>\n",
       "    <tr>\n",
       "      <th>1</th>\n",
       "      <td>0.651388</td>\n",
       "      <td>0.030658</td>\n",
       "      <td>0.292369</td>\n",
       "    </tr>\n",
       "    <tr>\n",
       "      <th>2</th>\n",
       "      <td>-0.515681</td>\n",
       "      <td>-0.459415</td>\n",
       "      <td>1.189261</td>\n",
       "    </tr>\n",
       "    <tr>\n",
       "      <th>3</th>\n",
       "      <td>-0.458525</td>\n",
       "      <td>0.158955</td>\n",
       "      <td>2.508719</td>\n",
       "    </tr>\n",
       "    <tr>\n",
       "      <th>4</th>\n",
       "      <td>-0.576037</td>\n",
       "      <td>-1.478321</td>\n",
       "      <td>-0.206375</td>\n",
       "    </tr>\n",
       "    <tr>\n",
       "      <th>5</th>\n",
       "      <td>0.462261</td>\n",
       "      <td>0.409685</td>\n",
       "      <td>1.172362</td>\n",
       "    </tr>\n",
       "    <tr>\n",
       "      <th>6</th>\n",
       "      <td>1.220473</td>\n",
       "      <td>-0.875761</td>\n",
       "      <td>-0.172198</td>\n",
       "    </tr>\n",
       "    <tr>\n",
       "      <th>7</th>\n",
       "      <td>-0.748578</td>\n",
       "      <td>0.232202</td>\n",
       "      <td>0.987833</td>\n",
       "    </tr>\n",
       "    <tr>\n",
       "      <th>8</th>\n",
       "      <td>0.408634</td>\n",
       "      <td>0.262513</td>\n",
       "      <td>1.295069</td>\n",
       "    </tr>\n",
       "    <tr>\n",
       "      <th>9</th>\n",
       "      <td>-0.865108</td>\n",
       "      <td>-0.508470</td>\n",
       "      <td>0.965015</td>\n",
       "    </tr>\n",
       "  </tbody>\n",
       "</table>\n",
       "</div>"
      ],
      "text/plain": [
       "       col1      col2      col3\n",
       "0  0.141639  0.044800 -1.649964\n",
       "1  0.651388  0.030658  0.292369\n",
       "2 -0.515681 -0.459415  1.189261\n",
       "3 -0.458525  0.158955  2.508719\n",
       "4 -0.576037 -1.478321 -0.206375\n",
       "5  0.462261  0.409685  1.172362\n",
       "6  1.220473 -0.875761 -0.172198\n",
       "7 -0.748578  0.232202  0.987833\n",
       "8  0.408634  0.262513  1.295069\n",
       "9 -0.865108 -0.508470  0.965015"
      ]
     },
     "execution_count": 3,
     "metadata": {},
     "output_type": "execute_result"
    }
   ],
   "source": [
    "import pandas as pd\n",
    "import numpy as np\n",
    "\n",
    "# Creating Dataframe structure from numpy array\n",
    "df1 = pd.DataFrame(np.random.randn(10,3),columns=['col1','col2','col3'])\n",
    "df1"
   ]
  },
  {
   "cell_type": "code",
   "execution_count": 4,
   "metadata": {
    "colab": {
     "base_uri": "https://localhost:8080/",
     "height": 359
    },
    "id": "PIi-CaNsrnv1",
    "outputId": "c5eb66a6-7c72-417a-e97e-1f29b2dae73d"
   },
   "outputs": [
    {
     "data": {
      "text/html": [
       "<div>\n",
       "<style scoped>\n",
       "    .dataframe tbody tr th:only-of-type {\n",
       "        vertical-align: middle;\n",
       "    }\n",
       "\n",
       "    .dataframe tbody tr th {\n",
       "        vertical-align: top;\n",
       "    }\n",
       "\n",
       "    .dataframe thead th {\n",
       "        text-align: right;\n",
       "    }\n",
       "</style>\n",
       "<table border=\"1\" class=\"dataframe\">\n",
       "  <thead>\n",
       "    <tr style=\"text-align: right;\">\n",
       "      <th></th>\n",
       "      <th>col3</th>\n",
       "    </tr>\n",
       "  </thead>\n",
       "  <tbody>\n",
       "    <tr>\n",
       "      <th>0</th>\n",
       "      <td>-1.649964</td>\n",
       "    </tr>\n",
       "    <tr>\n",
       "      <th>1</th>\n",
       "      <td>0.292369</td>\n",
       "    </tr>\n",
       "    <tr>\n",
       "      <th>2</th>\n",
       "      <td>1.189261</td>\n",
       "    </tr>\n",
       "    <tr>\n",
       "      <th>3</th>\n",
       "      <td>2.508719</td>\n",
       "    </tr>\n",
       "    <tr>\n",
       "      <th>4</th>\n",
       "      <td>-0.206375</td>\n",
       "    </tr>\n",
       "    <tr>\n",
       "      <th>5</th>\n",
       "      <td>1.172362</td>\n",
       "    </tr>\n",
       "    <tr>\n",
       "      <th>6</th>\n",
       "      <td>-0.172198</td>\n",
       "    </tr>\n",
       "    <tr>\n",
       "      <th>7</th>\n",
       "      <td>0.987833</td>\n",
       "    </tr>\n",
       "    <tr>\n",
       "      <th>8</th>\n",
       "      <td>1.295069</td>\n",
       "    </tr>\n",
       "    <tr>\n",
       "      <th>9</th>\n",
       "      <td>0.965015</td>\n",
       "    </tr>\n",
       "  </tbody>\n",
       "</table>\n",
       "</div>"
      ],
      "text/plain": [
       "       col3\n",
       "0 -1.649964\n",
       "1  0.292369\n",
       "2  1.189261\n",
       "3  2.508719\n",
       "4 -0.206375\n",
       "5  1.172362\n",
       "6 -0.172198\n",
       "7  0.987833\n",
       "8  1.295069\n",
       "9  0.965015"
      ]
     },
     "execution_count": 4,
     "metadata": {},
     "output_type": "execute_result"
    }
   ],
   "source": [
    "# Drop a column\n",
    "df2 = df1.drop(['col1', 'col2'], axis=1)\n",
    "df2"
   ]
  },
  {
   "cell_type": "code",
   "execution_count": 5,
   "metadata": {
    "colab": {
     "base_uri": "https://localhost:8080/",
     "height": 215
    },
    "id": "fww-spJnsAmy",
    "outputId": "754c1b9f-e8c5-43e7-ca73-863a12c7ebe0"
   },
   "outputs": [
    {
     "data": {
      "text/plain": [
       "0    0.141639\n",
       "1    0.651388\n",
       "2   -0.515681\n",
       "3   -0.458525\n",
       "4   -0.576037\n",
       "5    0.462261\n",
       "6    1.220473\n",
       "7   -0.748578\n",
       "8    0.408634\n",
       "9   -0.865108\n",
       "Name: col1, dtype: float64"
      ]
     },
     "execution_count": 5,
     "metadata": {},
     "output_type": "execute_result"
    }
   ],
   "source": [
    "# Access a column\n",
    "df3 = df1['col1']\n",
    "df3"
   ]
  },
  {
   "cell_type": "markdown",
   "metadata": {
    "id": "k4LtqBaLsNad"
   },
   "source": [
    "For more useful functions and tricks please refer to (https://www.tutorialspoint.com/python_pandas/index.htm)"
   ]
  },
  {
   "cell_type": "markdown",
   "metadata": {
    "id": "DEG66nqyzjos"
   },
   "source": [
    "### Splitting the datasets into training set and test set\n",
    "It is crucial to have a test dataset to evaluate the model we have learned. And scikit-learn provides a simple way of doing this via the `train_test_split` function. "
   ]
  },
  {
   "cell_type": "code",
   "execution_count": 6,
   "metadata": {
    "colab": {
     "base_uri": "https://localhost:8080/",
     "height": 71
    },
    "id": "FUM3MT8F0dHw",
    "outputId": "5aa740e8-6dec-4622-c820-51a4ed7c65c2"
   },
   "outputs": [
    {
     "name": "stdout",
     "output_type": "stream",
     "text": [
      "Original data shape X:(50, 2), y:(50,)\n",
      "Training data shape X:(40, 2), y:(40,)\n",
      "Test data shape X:(10, 2), y:(10,)\n"
     ]
    }
   ],
   "source": [
    "import numpy as np\n",
    "from sklearn.model_selection import train_test_split\n",
    "\n",
    "X, y = np.arange(100).reshape((-1, 2)), np.array([f'category_{i}' for i in np.random.randint(3, size=50)])\n",
    "print(f'Original data shape X:{X.shape}, y:{y.shape}')\n",
    "\n",
    "X_train, X_test, y_train, y_test = train_test_split(X,y,test_size=0.2)\n",
    "print(f'Training data shape X:{X_train.shape}, y:{y_train.shape}')\n",
    "print(f'Test data shape X:{X_test.shape}, y:{y_test.shape}')"
   ]
  },
  {
   "cell_type": "markdown",
   "metadata": {
    "id": "cvc3e959wWfS"
   },
   "source": [
    "### Data preprocessing\n",
    "Usually any data we have is raw and cannot just be plugged into the algorithm directly. Therefore, we need to preprocess the data so that can turn the raw data into the data that we can actually work on. And this step is called data preprocessing. There are different strategies for different types of data.  \n"
   ]
  },
  {
   "cell_type": "markdown",
   "metadata": {
    "id": "j5fLFUAst8Ic"
   },
   "source": [
    "For numerical data, a common preprocessing step is to make the features have zero-mean and unit-variance. Here is an easy way of doing this using `StandardScaler` from scikit-learn."
   ]
  },
  {
   "cell_type": "code",
   "execution_count": 7,
   "metadata": {
    "colab": {
     "base_uri": "https://localhost:8080/",
     "height": 233
    },
    "id": "JjE2c2kAuzSv",
    "outputId": "16279096-1d4e-4502-a899-4a04365e711f"
   },
   "outputs": [
    {
     "name": "stdout",
     "output_type": "stream",
     "text": [
      "Before scaled:\n",
      " [[2.0e+01 2.0e-03]\n",
      " [1.0e+02 5.0e-02]\n",
      " [7.5e+01 2.7e-02]\n",
      " [8.2e+01 7.0e-02]\n",
      " [1.7e+01 3.0e-02]]\n",
      "After scaled:\n",
      " [[-1.14407    -1.47520914]\n",
      " [ 1.21483721  0.61976242]\n",
      " [ 0.47767871 -0.38407812]\n",
      " [ 0.68408309  1.49266723]\n",
      " [-1.23252902 -0.2531424 ]]\n"
     ]
    }
   ],
   "source": [
    "import numpy as np\n",
    "from sklearn.preprocessing import StandardScaler\n",
    "\n",
    "# create data\n",
    "data = np.array([[20, 0.002],\n",
    "\t\t\t\t[100, 0.05],\n",
    "\t\t\t\t[75, 0.027],\n",
    "\t\t\t\t[82, 0.07],\n",
    "\t\t\t\t[17, 0.03]])\n",
    "print(f'Before scaled:\\n {data}')\n",
    "\n",
    "# define standard scaler\n",
    "scaler = StandardScaler()\n",
    "# fit (i.e., find mean and standard deviation) \n",
    "#  and transform (i.e., subtract mean and divide by standard deviation)\n",
    "#  in one step call\n",
    "scaled_data = scaler.fit_transform(data)\n",
    "print(f'After scaled:\\n {scaled_data}')"
   ]
  },
  {
   "cell_type": "markdown",
   "metadata": {
    "id": "aS0MU7xsvmZp"
   },
   "source": [
    "For non-numerical data, we somehow need to tranform the data into numbers. This is common for classification tasks since each class is usually labelled with names, i.e., a string. Turning this kind of feature into number representation is called **encoding categorical features**. There are many ways to do this, the simplest way is through **label encoding** via `LabelEncoder` or `OneHotEncoder`."
   ]
  },
  {
   "cell_type": "code",
   "execution_count": 8,
   "metadata": {
    "colab": {
     "base_uri": "https://localhost:8080/",
     "height": 89
    },
    "id": "HrhLpzVXvcrf",
    "outputId": "2218b4f9-8f71-4333-87a5-3b1c735f6dd2"
   },
   "outputs": [
    {
     "name": "stdout",
     "output_type": "stream",
     "text": [
      "Original data:\n",
      " ['paris', 'paris', 'tokyo', 'amsterdam', 'lafayette', 'amsterdam']\n",
      "label_data:\n",
      " [2 2 3 0 1 0]\n"
     ]
    }
   ],
   "source": [
    "from sklearn.preprocessing import LabelEncoder, OneHotEncoder\n",
    "data = [\"paris\", \"paris\", \"tokyo\", \"amsterdam\", \"lafayette\", \"amsterdam\"]\n",
    "\n",
    "print(f'Original data:\\n {data}')\n",
    "\n",
    "label_encode = LabelEncoder()\n",
    "# transform data\n",
    "label_data = label_encode.fit_transform(data)\n",
    "print(f'label_data:\\n {label_data}')\n"
   ]
  },
  {
   "cell_type": "markdown",
   "metadata": {},
   "source": [
    "### Important: Split the data into train and test BEFORE fitting/learning any preprocessing functions\n",
    "The test data cannot be used for learning any functions--even preprocessing functions.\n",
    "Thus, you should learn the preprocessing functions only on the training data via `fit` or `fit_transform` and then apply to the test data via `transform`.  (Or you can make a pipeline that includes the preprocessing in the pipeline as shown later.)\n",
    "\n",
    "(If you use the test data for learning the preprocessing function, you are \"cheating\" and your method evaluation is invalid.)"
   ]
  },
  {
   "cell_type": "code",
   "execution_count": 9,
   "metadata": {},
   "outputs": [
    {
     "name": "stdout",
     "output_type": "stream",
     "text": [
      "Mean orig X=[49. 50.]\n",
      "Mean of scaled train=[1.05471187e-16 1.05471187e-16]\n",
      "mean of scaled test=[-0.2650758 -0.2650758]\n"
     ]
    }
   ],
   "source": [
    "X_train, X_test, y_train, y_test = train_test_split(X, y, test_size=0.2, random_state=0)\n",
    "\n",
    "# Learn preprocessing transform ONLY on training data \n",
    "#  (this learns the mean and variance of the training data) \n",
    "scalar = StandardScaler()\n",
    "labeler = LabelEncoder()\n",
    "scalar.fit(X_train)  \n",
    "labeler.fit(y_train)\n",
    "\n",
    "# Apply the learned preprocessing transformations on both train and test\n",
    "#  (Note we are not fitting or learning based on X_test, merely transforming the test data)\n",
    "X_train = scalar.transform(X_train)\n",
    "X_test = scalar.transform(X_test)\n",
    "y_train = labeler.transform(y_train)\n",
    "y_test = labeler.transform(y_test)\n",
    "print(f'Mean orig X={np.mean(X, axis=0)}')\n",
    "# Exactly zero since we used training data to scale\n",
    "print(f'Mean of scaled train={np.mean(X_train, axis=0)}')  \n",
    "# Not exactly zero because the test set used the mean and variance learned from the training data\n",
    "print(f'mean of scaled test={np.mean(X_test, axis=0)}') "
   ]
  },
  {
   "cell_type": "markdown",
   "metadata": {
    "id": "yFQt7DvDzSjW"
   },
   "source": [
    "## Section 2: Train and evaluate the model"
   ]
  },
  {
   "cell_type": "markdown",
   "metadata": {
    "id": "8cvYuDKsABuG"
   },
   "source": [
    "### K Nearest Neighbor classification\n",
    "Scikit also provides a simple KNN implemenetation. It works as follows:"
   ]
  },
  {
   "cell_type": "code",
   "execution_count": 10,
   "metadata": {
    "colab": {
     "base_uri": "https://localhost:8080/",
     "height": 71
    },
    "id": "UvQ9qbocyadg",
    "outputId": "20dd26cf-7f35-4552-e66d-f9078809dd4a"
   },
   "outputs": [
    {
     "name": "stdout",
     "output_type": "stream",
     "text": [
      "Training data shape X:(1000, 2), y:(1000,)\n",
      "Test data shape X:(1000, 2), y:(1000,)\n",
      "Training score is 0.984, Test score is 0.972\n"
     ]
    }
   ],
   "source": [
    "import matplotlib.pyplot as plt\n",
    "from sklearn.neighbors import KNeighborsClassifier\n",
    "\n",
    "# Create datasets\n",
    "num_samples_per_class = 1000\n",
    "mean1, cov1 = [-2,2], [[2,0],[0,2]]\n",
    "mean2, cov2 = [2,-2], [[2,0],[0,2]]\n",
    "X1 = np.random.multivariate_normal(mean1, cov1, num_samples_per_class)\n",
    "X2 = np.random.multivariate_normal(mean2, cov2, num_samples_per_class)\n",
    "\n",
    "X = np.concatenate((X1,X2))\n",
    "y = np.concatenate((np.zeros(num_samples_per_class),np.ones(num_samples_per_class)))\n",
    "\n",
    "X_train, X_test, y_train, y_test = train_test_split(X,y,test_size=0.5)\n",
    "print(f'Training data shape X:{X_train.shape}, y:{y_train.shape}')\n",
    "print(f'Test data shape X:{X_test.shape}, y:{y_test.shape}')\n",
    "\n",
    "# Create the KNN classifier\n",
    "neigh = KNeighborsClassifier()\n",
    "# Fit the data into the classifier\n",
    "neigh.fit(X_train, y_train)\n",
    "# Evaluate our model\n",
    "train_score = neigh.score(X_train, y_train)\n",
    "test_score = neigh.score(X_test, y_test)\n",
    "print(f'Training score is {train_score}, Test score is {test_score}')\n"
   ]
  },
  {
   "cell_type": "markdown",
   "metadata": {
    "id": "m1gK57jB85ts"
   },
   "source": [
    "Note: Our training score is higher than our test score, which is expected because the model only 'sees' the training set and learned from it.\n",
    "\n",
    "**Question: How do we find the best hyperparamters for KNN classifier?**\n",
    "This can be done via cross validation using the `GridSearchCV` estimator in scikit-learn. The gridsearch estimator simply does an exhaustive search over all possible combinations of paramter choices. For example, if I want to find the best `n_neighbors` parameter among **[1,3,5,7,9,11]** for KNN as well as the best distance `metric` among **['euclidean', 'manhattan', 'chebyshev']**, `GridSearchCV` could be built as below.  Note that this will actually fit `6*3*cv` models since there are 6 `n_neighbors` parameters and 3 `metric` parameters and there are `cv` number of cross validation folds."
   ]
  },
  {
   "cell_type": "code",
   "execution_count": 25,
   "metadata": {
    "colab": {
     "base_uri": "https://localhost:8080/",
     "height": 53
    },
    "id": "bZhkexe46OkA",
    "outputId": "737ce78f-3fc9-449f-c0c9-08e9e5857a3b"
   },
   "outputs": [
    {
     "name": "stdout",
     "output_type": "stream",
     "text": [
      "The best parameters are {'metric': 'euclidean', 'n_neighbors': 5}\n",
      "Training score is 0.984, Test score is 0.972\n"
     ]
    }
   ],
   "source": [
    "from sklearn.model_selection import GridSearchCV\n",
    "\n",
    "grid_params = {\n",
    "    'n_neighbors': [1,3,5,7,9,11],\n",
    "    'metric': ['euclidean', 'manhattan', 'chebyshev'],\n",
    "}\n",
    "\n",
    "KNN_GV = GridSearchCV(KNeighborsClassifier(),\n",
    "                      grid_params,\n",
    "                      cv = 5 # Specifies the number of fractions for cross validation\n",
    "                     )\n",
    "\n",
    "result = KNN_GV.fit(X_train, y_train)\n",
    "print(f'The best parameters are {result.best_params_}')\n",
    "train_score = KNN_GV.score(X_train, y_train)\n",
    "test_score = KNN_GV.score(X_test, y_test)\n",
    "print(f'Training score is {train_score}, Test score is {test_score}')"
   ]
  },
  {
   "cell_type": "markdown",
   "metadata": {
    "id": "_LbRqTfv_PZi"
   },
   "source": [
    "Here, the grid search do a total number of 18 parameter setttings of KNN with each iteration a different combination of parameters. And among the 18 combinations, the best training score is 0.977 withe a corresponding test score of 0.971."
   ]
  },
  {
   "cell_type": "markdown",
   "metadata": {
    "id": "rjpHusdRAFyC"
   },
   "source": [
    "### Simple linear regression\n",
    "Scikit-learn also provides a simple implemention of linear regression, here is how it works.\n",
    "We first generate data from a noisy sin function as follows $y=\\sin(x) + \\epsilon$, where $\\epsilon \\sim \\text{NormalDistribution}(\\mu,\\sigma)$ where $\\mu=0$ and $\\sigma=0.1$.\n",
    "\n",
    "(Samples from a standard normal distribution are generated via `randn`, and these can be shifted and scaled to form samples from any normal distribution as follows $\\epsilon = \\sigma z + \\mu$, where $z$ is a standard normal sample.)"
   ]
  },
  {
   "cell_type": "code",
   "execution_count": 12,
   "metadata": {
    "colab": {
     "base_uri": "https://localhost:8080/",
     "height": 267
    },
    "id": "wH9EL0SrA_tO",
    "outputId": "443f809f-ebf4-4a60-9de2-d5b9c95889a4"
   },
   "outputs": [
    {
     "data": {
      "image/png": "[encoded data removed]",
      "text/plain": [
       "<Figure size 640x480 with 1 Axes>"
      ]
     },
     "metadata": {},
     "output_type": "display_data"
    }
   ],
   "source": [
    "# We first create something we need to fit\n",
    "num_samples = 50\n",
    "X = np.linspace(0,2,num_samples)\n",
    "y = np.sin(X) + 0.1*np.random.randn(num_samples)\n",
    "plt.scatter(X, y)\n",
    "plt.show()"
   ]
  },
  {
   "cell_type": "markdown",
   "metadata": {
    "id": "Hu-MmNo7h4YN"
   },
   "source": [
    "Here we show a simple 1D linear regresssion."
   ]
  },
  {
   "cell_type": "code",
   "execution_count": 13,
   "metadata": {
    "id": "AoEQCbiUh4YN",
    "outputId": "29d19286-da38-4dba-bcd9-01fb1fc7e231"
   },
   "outputs": [
    {
     "data": {
      "image/png": "[encoded data removed]",
      "text/plain": [
       "<Figure size 640x480 with 1 Axes>"
      ]
     },
     "metadata": {},
     "output_type": "display_data"
    }
   ],
   "source": [
    "from sklearn.linear_model import LinearRegression\n",
    "\n",
    "xfit = np.linspace(0, 2, 1000)\n",
    "\n",
    "lin_reg = LinearRegression()\n",
    "# The fit function always expects a 2D array for X (even if there is only one feature)\n",
    "#  so we go from an (n,) 1D array to a (n,1) 2D array via the np.newaxis \n",
    "#  (you could also use X.reshape(-1, 1) for this)\n",
    "lin_reg.fit(X[:, np.newaxis], y)\n",
    "yfit = lin_reg.predict(xfit[:, np.newaxis])\n",
    "plt.plot(xfit, yfit, 'r')\n",
    "plt.scatter(X, y)\n",
    "    \n",
    "plt.show()"
   ]
  },
  {
   "cell_type": "markdown",
   "metadata": {
    "id": "BsjDCTl0BIDA"
   },
   "source": [
    "### Linear regression with polynomial features = 1D polynomial regression!\n",
    "Now, lets extend linear regression with \"pseudo features\" by creating polynomial features from the original data, i.e., pseudo features for various powers of the original data: \n",
    "$z_1 = x$, $z_2 = x^2$, $z_3 = x^3$, $z_4 = x^4$, etc.  \n",
    "We can do this easily by first passing the data through a scikit-learn estimator that creates these polynomial features and then running a linear regression method so that our 1D model is a polynomial function: \n",
    "$$\\theta_1 z_1 + \\theta_2 z_2 + \\theta_3 z_3 \\cdots = \\theta_1 x + \\theta_2 x^2 + \\theta_3 x^3 \\cdots \\, .$$\n",
    "[See the python handbook for more details and an in-depth example of linear regression and polynomial regression.](https://jakevdp.github.io/PythonDataScienceHandbook/05.06-linear-regression.html) (There are lots of other options, for example, Gaussian feature is the most used feature and with Ridge/Lasso regularization.)\n",
    "\n",
    "These two steps (one preprocessing and the other classification) can be combined using scikit-learn's pipeline implementation as seen below.  In general, it is always better to put all preprocessing in a pipeline rather than doing them as separate steps.  This way the whole model is contained in one call and you can use `GridSearchCV` to optimize multiple hyperparameters in the pipeline.  Additionally, this can help avoid common bugs like using the test data for the preprocessing steps (which should not be given access to the test data) or forgetting to preprocess your data before passing to your classifier."
   ]
  },
  {
   "cell_type": "code",
   "execution_count": 14,
   "metadata": {
    "colab": {
     "base_uri": "https://localhost:8080/",
     "height": 267
    },
    "id": "40ldYmxU_yeW",
    "outputId": "17713482-3933-4f71-e419-9e8334b8f8c3"
   },
   "outputs": [
    {
     "data": {
      "image/png": "[encoded data removed]",
      "text/plain": [
       "<Figure size 640x480 with 1 Axes>"
      ]
     },
     "metadata": {},
     "output_type": "display_data"
    }
   ],
   "source": [
    "from sklearn.pipeline import make_pipeline\n",
    "from sklearn.preprocessing import PolynomialFeatures\n",
    "\n",
    "xfit = np.linspace(0, 2, 1000)\n",
    "\n",
    "degree=2\n",
    "estimator = make_pipeline(PolynomialFeatures(degree), LinearRegression())\n",
    "estimator.fit(X[:, np.newaxis], y)\n",
    "yfit = estimator.predict(xfit[:, np.newaxis])\n",
    "plt.plot(xfit, yfit, 'r')\n",
    "plt.scatter(X, y)\n",
    "    \n",
    "plt.show()"
   ]
  },
  {
   "cell_type": "markdown",
   "metadata": {
    "id": "ISGZS552CNZB"
   },
   "source": [
    "Here instead of passing terms sequentially, I use the function **make_pipeline** which helps to wrap a sequential steps of operation. Using pipeline makes your code much cleaner."
   ]
  }
 ],
 "metadata": {
  "accelerator": "GPU",
  "colab": {
   "collapsed_sections": [],
   "name": "Assignment_03_Instructions.ipynb",
   "provenance": [],
   "toc_visible": true
  },
  "kernelspec": {
   "display_name": "Python 3",
   "language": "python",
   "name": "python3"
  },
  "language_info": {
   "codemirror_mode": {
    "name": "ipython",
    "version": 3
   },
   "file_extension": ".py",
   "mimetype": "text/x-python",
   "name": "python",
   "nbconvert_exporter": "python",
   "pygments_lexer": "ipython3",
   "version": "3.11.9"
  }
 },
 "nbformat": 4,
 "nbformat_minor": 1
}
